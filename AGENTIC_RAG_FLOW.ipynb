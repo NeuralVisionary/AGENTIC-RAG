{
  "cells": [
    {
      "cell_type": "code",
      "execution_count": null,
      "metadata": {
        "id": "VGjWIiHKc_ua"
      },
      "outputs": [],
      "source": [
        "# 🧠 Agentic RAG with Gemini + FAISS + LangChain\n",
        "# Includes logging, recursive splitting, rephrasing, and reasoning\n",
        "\n",
        "# Install necessary packages\n",
        "!pip install langchain faiss-cpu langchain-google-genai google-generativeai\n",
        "\n",
        "# --- Setup Gemini API ---\n",
        "from langchain_google_genai import ChatGoogleGenerativeAI, GoogleGenerativeAIEmbeddings\n",
        "import os\n",
        "\n",
        "GOOGLE_API_KEY = \"AIzaSyB7Wc\"\n",
        "\n",
        "os.environ[\"GOOGLE_API_KEY\"] = GOOGLE_API_KEY   # Replace with your key\n",
        "\n",
        "# llm = ChatGoogleGenerativeAI(model=\"gemini-pro\", temperature=0.3)\n",
        "llm = ChatGoogleGenerativeAI(model=\"gemini-1.5-flash-latest\", temperature=0.0)\n",
        "embedding = GoogleGenerativeAIEmbeddings(model=\"models/embedding-001\")\n"
      ]
    },
    {
      "cell_type": "code",
      "execution_count": null,
      "metadata": {
        "id": "1vbcb7rwe-AN"
      },
      "outputs": [],
      "source": [
        "!pip install -U langchain-community"
      ]
    },
    {
      "cell_type": "code",
      "execution_count": null,
      "metadata": {
        "id": "PHcZwcF3eQ65"
      },
      "outputs": [],
      "source": [
        "# --- Load and Split Documents using RecursiveCharacterTextSplitter ---\n",
        "from langchain.document_loaders import TextLoader\n",
        "from langchain.text_splitter import RecursiveCharacterTextSplitter\n",
        "\n",
        "loader = TextLoader(\"/content/RAG.txt\")  # Replace with your file path\n",
        "raw_docs = loader.load()\n",
        "\n",
        "splitter = RecursiveCharacterTextSplitter(chunk_size=800, chunk_overlap=100)\n",
        "docs = splitter.split_documents(raw_docs)\n",
        "\n",
        "print(f\"Loaded {len(docs)} document chunks.\")\n"
      ]
    },
    {
      "cell_type": "code",
      "execution_count": null,
      "metadata": {
        "id": "0v3Ll5frfNY8"
      },
      "outputs": [],
      "source": [
        "# --- Create FAISS Vector Store ---\n",
        "from langchain.vectorstores import FAISS\n",
        "\n",
        "vectorstore = FAISS.from_documents(docs, embedding)\n",
        "retriever = vectorstore.as_retriever()\n"
      ]
    },
    {
      "cell_type": "code",
      "execution_count": 6,
      "metadata": {
        "id": "56-PhTuJfRoS"
      },
      "outputs": [],
      "source": [
        "# --- Logging Setup ---\n",
        "import logging\n",
        "\n",
        "logging.basicConfig(level=logging.INFO)\n",
        "logger = logging.getLogger(\"AgenticRAG\")\n"
      ]
    },
    {
      "cell_type": "code",
      "execution_count": 7,
      "metadata": {
        "id": "tKi7J0xbfVKj"
      },
      "outputs": [],
      "source": [
        "# --- Define Smart RAG Logic Tool ---\n",
        "from langchain.tools import Tool\n",
        "\n",
        "def smart_agentic_rag(query: str) -> str:\n",
        "    logger.info(f\"🔍 Received query: {query}\")\n",
        "\n",
        "    # Initial retrieval\n",
        "    results = retriever.get_relevant_documents(query)\n",
        "    if results:\n",
        "        context = \"\\n\\n\".join([doc.page_content for doc in results])\n",
        "        logger.info(f\"📚 Retrieved {len(results)} docs for initial query.\")\n",
        "\n",
        "        if \"crispr\" in context.lower():  # Naive relevance check\n",
        "            logger.info(\"✅ Context appears relevant. Generating answer.\")\n",
        "            return llm.invoke(f\"Answer using the context:\\n\\n{context}\\n\\nQuestion: {query}\")\n",
        "        else:\n",
        "            logger.warning(\"⚠️ Context found but seems not very relevant. Rephrasing query.\")\n",
        "    else:\n",
        "        logger.warning(\"❌ No context found. Rephrasing query.\")\n",
        "\n",
        "    # Rephrase query\n",
        "    rephrased = rephrase_query_tool(query)\n",
        "    logger.info(f\"🔄 Rephrased query: {rephrased}\")\n",
        "\n",
        "    new_results = retriever.get_relevant_documents(rephrased)\n",
        "    if new_results:\n",
        "        context = \"\\n\\n\".join([doc.page_content for doc in new_results])\n",
        "        logger.info(f\"📚 Retrieved {len(new_results)} docs after rephrasing.\")\n",
        "\n",
        "        if \"crispr\" in context.lower():\n",
        "            logger.info(\"✅ Rephrased context looks good. Generating answer.\")\n",
        "            return llm.invoke(f\"Answer using the context:\\n\\n{context}\\n\\nQuestion: {query}\")\n",
        "        else:\n",
        "            logger.warning(\"⚠️ Still not relevant. Using LLM reasoning.\")\n",
        "    else:\n",
        "        logger.warning(\"❌ Still no documents. Using LLM reasoning.\")\n",
        "\n",
        "    # Final fallback\n",
        "    return reason_with_llm(query)\n",
        "\n",
        "\n",
        "# --- Define Rephrase & Reasoning Tools ---\n",
        "def rephrase_query_tool(query: str) -> str:\n",
        "    prompt = f\"Rephrase this query to improve retrieval effectiveness:\\n\\n{query}\"\n",
        "    result = llm.invoke(prompt)\n",
        "    return result.content if hasattr(result, 'content') else result\n",
        "\n",
        "def reason_with_llm(query: str) -> str:\n",
        "    prompt = f\"No documents are available. Please answer the question using reasoning:\\n\\n{query}\"\n",
        "    result = llm.invoke(prompt)\n",
        "    return result.content if hasattr(result, 'content') else result\n"
      ]
    },
    {
      "cell_type": "code",
      "execution_count": 20,
      "metadata": {
        "colab": {
          "base_uri": "https://localhost:8080/"
        },
        "id": "jTn7ryRoitrV",
        "outputId": "ba76b368-5020-47f9-d8e9-454c24d99914"
      },
      "outputs": [
        {
          "name": "stderr",
          "output_type": "stream",
          "text": [
            "/tmp/ipython-input-1657154940.py:6: LangChainDeprecationWarning: The class `TavilySearchResults` was deprecated in LangChain 0.3.25 and will be removed in 1.0. An updated version of the class exists in the :class:`~langchain-tavily package and should be used instead. To use it run `pip install -U :class:`~langchain-tavily` and import as `from :class:`~langchain_tavily import TavilySearch``.\n",
            "  tavily_tool = TavilySearchResults()\n"
          ]
        }
      ],
      "source": [
        "import os\n",
        "os.environ[\"TAVILY_API_KEY\"] = \"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\"\n",
        "\n",
        "from langchain.tools.tavily_search import TavilySearchResults\n",
        "\n",
        "tavily_tool = TavilySearchResults()\n"
      ]
    },
    {
      "cell_type": "code",
      "execution_count": 21,
      "metadata": {
        "id": "ES74E85Mferl"
      },
      "outputs": [],
      "source": [
        "# --- Setup LangChain Agent ---\n",
        "from langchain.agents import initialize_agent, AgentType\n",
        "\n",
        "from langchain.tools import Tool\n",
        "\n",
        "rag_tool = Tool(\n",
        "    name=\"SmartRetriever\",\n",
        "    func=smart_agentic_rag,\n",
        "    description=\"Retrieves relevant information or reasons with LLM if retrieval fails\"\n",
        ")\n",
        "\n",
        "rephrase_tool = Tool(\n",
        "    name=\"RephraseQuery\",\n",
        "    func=rephrase_query_tool,\n",
        "    description=\"Rephrases the user's query to help improve retrieval\"\n",
        ")\n",
        "\n",
        "reasoning_tool = Tool(\n",
        "    name=\"LLMReasoning\",\n",
        "    func=reason_with_llm,\n",
        "    description=\"Use LLM to answer directly without documents\"\n",
        ")\n",
        "\n",
        "tools = [rag_tool, rephrase_tool, reasoning_tool,tavily_tool]\n",
        "\n",
        "agent_executor = initialize_agent(\n",
        "    tools=tools,\n",
        "    llm=llm,\n",
        "    agent=AgentType.ZERO_SHOT_REACT_DESCRIPTION,\n",
        "    verbose=True\n",
        ")\n"
      ]
    },
    {
      "cell_type": "code",
      "execution_count": 23,
      "metadata": {
        "colab": {
          "base_uri": "https://localhost:8080/"
        },
        "id": "Zfn-JP7wfjbv",
        "outputId": "21f0bf9d-6297-4200-ddfb-e108cb5abd6f"
      },
      "outputs": [
        {
          "name": "stdout",
          "output_type": "stream",
          "text": [
            "\n",
            "\n",
            "\u001b[1m> Entering new AgentExecutor chain...\u001b[0m\n",
            "\u001b[32;1m\u001b[1;3mThought: The query \"GENE EDITING ?\" is too broad.  I need to rephrase it to get more specific and useful results.\n",
            "\n",
            "Action: RephraseQuery\n",
            "Action Input: GENE EDITING ?\u001b[0m\n",
            "Observation: \u001b[33;1m\u001b[1;3mHere are several ways to rephrase the query \"GENE EDITING ?\", depending on what you're looking for:\n",
            "\n",
            "**More specific options:**\n",
            "\n",
            "* **\"CRISPR-Cas9 gene editing\"**:  This targets a specific gene editing technology.\n",
            "* **\"Gene editing techniques\"**: This is broader, but still more specific than just \"gene editing\".\n",
            "* **\"Gene editing applications in medicine\"**: This focuses on a particular application.\n",
            "* **\"Ethical implications of gene editing\"**: This targets a specific aspect of the topic.\n",
            "* **\"Gene editing research\"**: This focuses on the scientific research aspect.\n",
            "* **\"Genome editing\"**: This is a synonym that might yield different results.\n",
            "\n",
            "\n",
            "**Options for broader searches:**\n",
            "\n",
            "* **\"Gene therapy\"**: This is a related field that often overlaps with gene editing.\n",
            "* **\"Genetic engineering\"**: This is a broader term encompassing gene editing.\n",
            "\n",
            "\n",
            "The best rephrased query depends on your specific information need.  The original query is too broad and lacks keywords.  Adding specific terms will significantly improve retrieval effectiveness.\u001b[0m\n",
            "Thought:\u001b[32;1m\u001b[1;3mThought: I need to choose a more specific rephrased query to get a useful answer.  Let's try \"Gene editing techniques\".\n",
            "\n",
            "Action: SmartRetriever\n",
            "Action Input: Gene editing techniques\u001b[0m\n",
            "Observation: \u001b[36;1m\u001b[1;3mcontent='Based on the provided text, CRISPR-Cas9 is a gene editing technique that uses a Cas9 enzyme guided by a synthetic RNA sequence (sgRNA) to cut DNA at a specific location.  This allows for the deletion, insertion, or replacement of genetic material.  The text also mentions that CRISPR is being used in gene therapy, cancer treatment, agriculture, and synthetic biology.' additional_kwargs={} response_metadata={'prompt_feedback': {'block_reason': 0, 'safety_ratings': []}, 'finish_reason': 'STOP', 'safety_ratings': []} id='run--8104880a-1cba-469c-8d25-038f1c667d0d-0' usage_metadata={'input_tokens': 443, 'output_tokens': 78, 'total_tokens': 521, 'input_token_details': {'cache_read': 0}}\u001b[0m\n",
            "Thought:\u001b[32;1m\u001b[1;3mThought:The SmartRetriever provided a good overview of one gene editing technique, CRISPR-Cas9.  However, to provide a more comprehensive answer about gene editing techniques in general, I should use LLMReasoning to supplement this information.\n",
            "\n",
            "Action: LLMReasoning\n",
            "Action Input: Describe various gene editing techniques beyond CRISPR-Cas9.\u001b[0m\n",
            "Observation: \u001b[38;5;200m\u001b[1;3mWhile CRISPR-Cas9 has become the dominant gene editing technique, several others exist, each with its own strengths and weaknesses:\n",
            "\n",
            "**1. Zinc Finger Nucleases (ZFNs):**  ZFNs utilize engineered zinc finger proteins (ZFPs) fused to the FokI restriction enzyme.  ZFPs are designed to bind specific DNA sequences, and the FokI enzyme creates a double-stranded break (DSB) at the target site.  The cell's natural DNA repair mechanisms then lead to gene editing.  ZFNs were among the earliest gene editing tools, but their design and production are more complex and expensive than CRISPR.  They also suffer from off-target effects.\n",
            "\n",
            "**2. Transcription Activator-Like Effector Nucleases (TALENs):** Similar to ZFNs, TALENs use a DNA-binding domain (derived from transcription activator-like effectors) fused to the FokI nuclease.  TALENs offer greater specificity and easier design compared to ZFNs, but they are still more cumbersome and expensive than CRISPR.  Off-target effects remain a concern.\n",
            "\n",
            "**3. Meganucleases:** These are naturally occurring enzymes that recognize and cleave long DNA sequences (12-40 base pairs).  Their high specificity reduces off-target effects, but their natural target sites are limited, requiring significant engineering to target specific genes.  This engineering process is complex and time-consuming.\n",
            "\n",
            "**4. Base Editing:** This technique doesn't rely on creating a DSB. Instead, it uses modified Cas enzymes fused to a deaminase enzyme.  This allows for precise base changes (e.g., converting a C to a T or an A to a G) without causing a DSB, minimizing off-target effects and reducing the risk of unwanted insertions or deletions.  However, it's limited to specific types of base conversions.\n",
            "\n",
            "**5. Prime Editing:**  A more advanced form of base editing, prime editing uses a reverse transcriptase fused to a modified Cas enzyme.  This allows for a wider range of edits, including insertions, deletions, and all types of base substitutions.  It's considered more precise and versatile than base editing but is still relatively new and requires further development.\n",
            "\n",
            "\n",
            "**6. Homologous Recombination (HR):** While not a gene editing *technique* in itself, HR is a crucial cellular process utilized by all the above techniques.  After a DSB is created, the cell can repair it using a provided DNA template (donor DNA) through HR.  This allows for precise gene insertion or replacement.  The efficiency of HR is often a limiting factor in gene editing.\n",
            "\n",
            "\n",
            "These techniques represent a range of approaches to gene editing, each with its own advantages and disadvantages.  The choice of technique depends on the specific application, the target gene, the desired edit, and the resources available.  CRISPR-Cas9's relative simplicity and efficiency have made it the most widely used, but the other techniques remain valuable tools for specific applications.\u001b[0m\n",
            "Thought:\u001b[32;1m\u001b[1;3mThought: I now know the final answer.  The SmartRetriever and LLMReasoning actions provided a comprehensive overview of gene editing techniques.\n",
            "\n",
            "Final Answer: Gene editing techniques encompass a range of methods for modifying an organism's genome.  CRISPR-Cas9 is the most widely used, employing a Cas9 enzyme guided by RNA to cut DNA at specific locations, enabling deletion, insertion, or replacement of genetic material.  Other techniques include Zinc Finger Nucleases (ZFNs), Transcription Activator-Like Effector Nucleases (TALENs), Meganucleases, Base Editing, and Prime Editing.  ZFNs and TALENs use engineered proteins fused to nucleases to target specific DNA sequences. Meganucleases are naturally occurring enzymes with high specificity but limited target sites. Base editing allows precise base changes without double-stranded breaks, while prime editing offers a wider range of edits.  Homologous recombination is a crucial cellular process used by many techniques to repair DNA breaks using a provided template.  The choice of technique depends on factors such as the target gene, desired edit, and available resources.\u001b[0m\n",
            "\n",
            "\u001b[1m> Finished chain.\u001b[0m\n",
            "📤 Final Answer:\n",
            " Gene editing techniques encompass a range of methods for modifying an organism's genome.  CRISPR-Cas9 is the most widely used, employing a Cas9 enzyme guided by RNA to cut DNA at specific locations, enabling deletion, insertion, or replacement of genetic material.  Other techniques include Zinc Finger Nucleases (ZFNs), Transcription Activator-Like Effector Nucleases (TALENs), Meganucleases, Base Editing, and Prime Editing.  ZFNs and TALENs use engineered proteins fused to nucleases to target specific DNA sequences. Meganucleases are naturally occurring enzymes with high specificity but limited target sites. Base editing allows precise base changes without double-stranded breaks, while prime editing offers a wider range of edits.  Homologous recombination is a crucial cellular process used by many techniques to repair DNA breaks using a provided template.  The choice of technique depends on factors such as the target gene, desired edit, and available resources.\n"
          ]
        }
      ],
      "source": [
        "# --- Run a Sample Query ---\n",
        "query = \"GENE EDITING ?\"\n",
        "response = agent_executor.run(query)\n",
        "print(\"📤 Final Answer:\\n\", response)\n"
      ]
    },
    {
      "cell_type": "markdown",
      "metadata": {
        "id": "BpBaJ-iSfdxR"
      },
      "source": []
    },
    {
      "cell_type": "markdown",
      "metadata": {
        "id": "aW-1Li5DfaqC"
      },
      "source": []
    }
  ],
  "metadata": {
    "colab": {
      "provenance": []
    },
    "kernelspec": {
      "display_name": "Python 3",
      "name": "python3"
    },
    "language_info": {
      "name": "python"
    }
  },
  "nbformat": 4,
  "nbformat_minor": 0
}
